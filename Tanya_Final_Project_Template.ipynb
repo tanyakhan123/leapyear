{
  "nbformat": 4,
  "nbformat_minor": 0,
  "metadata": {
    "colab": {
      "name": "Dara & Tanya Final-Project-Template.ipynb",
      "provenance": [],
      "toc_visible": true,
      "include_colab_link": true
    },
    "kernelspec": {
      "name": "python3",
      "display_name": "Python 3"
    },
    "accelerator": "GPU"
  },
  "cells": [
    {
      "cell_type": "markdown",
      "metadata": {
        "id": "view-in-github",
        "colab_type": "text"
      },
      "source": [
        "<a href=\"https://colab.research.google.com/github/tanyakhan123/leapyear/blob/master/Tanya_Final_Project_Template.ipynb\" target=\"_parent\"><img src=\"https://colab.research.google.com/assets/colab-badge.svg\" alt=\"Open In Colab\"/></a>"
      ]
    },
    {
      "cell_type": "markdown",
      "metadata": {
        "id": "ZFYieQ69rbWf",
        "colab_type": "text"
      },
      "source": [
        "# Template\n",
        "\n",
        "This is just a template with some stuff you will need for your final project. Feel free to copy it to your drive and change whatever you want!"
      ]
    },
    {
      "cell_type": "markdown",
      "metadata": {
        "id": "xbIXgz3QrHTz",
        "colab_type": "text"
      },
      "source": [
        "# Data"
      ]
    },
    {
      "cell_type": "code",
      "metadata": {
        "id": "gMrY3OPtpVUo",
        "colab_type": "code",
        "colab": {
          "base_uri": "https://localhost:8080/",
          "height": 85
        },
        "outputId": "e762db1d-0583-48c8-e34d-7a55e6225212"
      },
      "source": [
        "import tensorflow as tf\n",
        "import numpy as np\n",
        "from tensorflow.keras import datasets, layers, models\n",
        "import matplotlib.pyplot as plt\n",
        "\n",
        "(train_images, train_labels), (test_images, test_labels) = datasets.cifar10.load_data()\n",
        "\n",
        "labels = np.concatenate((train_labels, test_labels))\n",
        "classes = [\"airplane\", \"automobile\", \"bird\", \"cat\", \"deer\", \"dog\", \"frog\", \"horse\", \n",
        "           \"ship\", \"truck\"]\n",
        "class_names = np.unique(labels)\n",
        "\n",
        "print(train_images.shape)\n",
        "print(test_images.shape)"
      ],
      "execution_count": null,
      "outputs": [
        {
          "output_type": "stream",
          "text": [
            "Downloading data from https://www.cs.toronto.edu/~kriz/cifar-10-python.tar.gz\n",
            "170500096/170498071 [==============================] - 4s 0us/step\n",
            "(50000, 32, 32, 3)\n",
            "(10000, 32, 32, 3)\n"
          ],
          "name": "stdout"
        }
      ]
    },
    {
      "cell_type": "markdown",
      "metadata": {
        "id": "lFA_roQfrEzf",
        "colab_type": "text"
      },
      "source": [
        "# Custom Class"
      ]
    },
    {
      "cell_type": "code",
      "metadata": {
        "id": "SFCJuCaAqwjU",
        "colab_type": "code",
        "colab": {}
      },
      "source": [
        "from tensorflow.keras import layers\n",
        "class SharedWeightsConv(tf.keras.layers.Layer):\n",
        "    def __init__(\n",
        "            self,\n",
        "            parent,\n",
        "            strides=None,\n",
        "            padding=None,\n",
        "            dilation_rate=None,\n",
        "            activation=None,\n",
        "            **kwargs\n",
        "        ):\n",
        "        # We want to check if the input is indeed a TF Convolutional Layer\n",
        "        conv_classes = (\n",
        "            layers.Conv1D,\n",
        "            layers.Conv2D,\n",
        "            layers.Conv3D\n",
        "        )\n",
        "        if not any(isinstance(parent, cls) for cls in conv_classes):\n",
        "            raise TypeError(\"'parent' should be a keras convolution layer.\")\n",
        "        # Initialize tf.keras.layers.Layer object    \n",
        "        super().__init__(**kwargs)\n",
        "        self.parent = parent\n",
        "        self.rank = parent.rank # The Convolution dimension ie. 1D, 2D, 3D\n",
        "        self.activation = (\n",
        "            # We want to use the parent's activation function\n",
        "            # if the user doesn't pass in a custom activation function\n",
        "            parent.activation if activation is None\n",
        "            else tf.keras.activations.get(activation)\n",
        "        )\n",
        "        cnn_kwargs = {\n",
        "            'strides': strides,\n",
        "            'padding': padding,\n",
        "            'data_format': None,\n",
        "            'dilation_rate': dilation_rate,\n",
        "        }\n",
        "        self.cnn_kwargs = {\n",
        "            key: getattr(parent, key) if value is None else value\\\n",
        "            for key, value in cnn_kwargs.items()\n",
        "        }\n",
        "        self.built = self.parent.built\n",
        "        self.cnn_op = {\n",
        "            1: tf.keras.backend.conv1d,\n",
        "            2: tf.keras.backend.conv2d,\n",
        "            3: tf.keras.backend.conv3d\n",
        "        }.get(self.rank)\n",
        "\n",
        "    def build(self, input_shape):\n",
        "        if not self.built:\n",
        "            self.parent.build(input_shape)\n",
        "        self.built = True\n",
        "\n",
        "    def call(self, inputs):  # adapted from Conv parent layer\n",
        "        if self.cnn_kwargs['padding'] == 'causal' and self.rank == 1:\n",
        "            inputs = tf.pad(inputs, self._compute_causal_padding())\n",
        "        outputs = self.cnn_op(inputs, self.parent.kernel, **self.cnn_kwargs)\n",
        "        if self.parent.use_bias:\n",
        "            if self.cnn_kwargs['data_format'] == 'channels_first':\n",
        "                if self.rank == 1:\n",
        "                    shape = (1, self.parent.filters, 1)\n",
        "                    outputs += tf.reshape(self.parent.bias, shape)\n",
        "                else:\n",
        "                    outputs = tf.nn.bias_add(\n",
        "                        outputs, self.parent.bias, data_format='NCHW'\n",
        "                    )\n",
        "            else:\n",
        "                outputs = tf.nn.bias_add(\n",
        "                    outputs, self.parent.bias, data_format='NHWC'\n",
        "                )\n",
        "        if self.activation is not None:\n",
        "            return self.activation(outputs)\n",
        "        return outputs\n",
        "\n",
        "    def _compute_causal_padding(self):  # adapted from Conv parent layer\n",
        "        left_pad = self.cnn_kwargs['dilation_rate'][0]\n",
        "        left_pad *= (self.parent.kernel_size[0] - 1)\n",
        "        if self.cnn_kwargs['data_format'] == 'channels_last':\n",
        "          causal_padding = [[0, 0], [left_pad, 0], [0, 0]]\n",
        "        else:\n",
        "          causal_padding = [[0, 0], [0, 0], [left_pad, 0]]\n",
        "        return causal_padding"
      ],
      "execution_count": null,
      "outputs": []
    },
    {
      "cell_type": "markdown",
      "metadata": {
        "id": "bf3bFz6trYcj",
        "colab_type": "text"
      },
      "source": [
        "# Model"
      ]
    },
    {
      "cell_type": "markdown",
      "metadata": {
        "id": "cUsXg9uus1KG",
        "colab_type": "text"
      },
      "source": [
        "in case you want to use functional API instead of sequential here is an input node"
      ]
    },
    {
      "cell_type": "code",
      "metadata": {
        "id": "NvwpmoUSrXsE",
        "colab_type": "code",
        "colab": {
          "base_uri": "https://localhost:8080/",
          "height": 68
        },
        "outputId": "eba8e7f2-b777-469c-ca33-77d61e0932e2"
      },
      "source": [
        "import numpy as np\n",
        "import tensorflow as tf\n",
        "from tensorflow.keras import Sequential\n",
        "from tensorflow.keras.layers import Dense, Conv2D, MaxPooling2D, Flatten\n",
        "((train_images, train_labels), (test_images, test_labels)) = datasets.cifar10.load_data()\n",
        "\n",
        "print(train_images.shape)\n",
        "# This line here concatenates the train and test labels into one array\n",
        "labels = np.concatenate((train_labels, test_labels))\n",
        "\n",
        "# CHANGE THE CODE BELOW, USE NP.UNIQUE\n",
        "uniques, counts  = np.unique(labels, return_counts=True)\n",
        "print(uniques)\n",
        "print(counts)\n",
        "classes = [\"airplane\", \"automobile\", \"bird\", \"cat\", \"deer\", \"dog\", \"frog\", \"horse\", \"ship\", \"truck\"]\n",
        "\n",
        "train_labels = tf.keras.utils.to_categorical(train_labels)\n",
        "test_labels = tf.keras.utils.to_categorical(test_labels)\n",
        "\n",
        "\n",
        "\n",
        "\n",
        "\n",
        "\n",
        "# inputs = tf.keras.Input(shape=(32, 32, 3), name=\"img\")\n",
        "\n",
        "# AlexNet model\n",
        "# class AlexNet(Sequential):\n",
        "#     def __init__(self, input_shape, num_classes):\n",
        "#         super().__init__()\n",
        "\n",
        "#         self.add(Conv2D(96, kernel_size=(11,11), strides= 4,\n",
        "#                         padding= 'valid', activation= 'sigmoid',\n",
        "#                         input_shape= input_shape,\n",
        "#                         kernel_initializer= 'he_normal'))\n",
        "        \n",
        "#         self.add(MaxPooling2D(pool_size=(3,3), strides= (2,2),\n",
        "#                               padding= 'valid', data_format= None))\n",
        "\n",
        "#         self.add(Conv2D(256, kernel_size=(5,5), strides= 1,\n",
        "#                         padding= 'same', activation= 'sigmoid',\n",
        "#                         kernel_initializer= 'he_normal'))\n",
        "#         # self.add(MaxPooling2D(pool_size=(3,3), strides= (2,2),\n",
        "#         #                       padding= 'valid', data_format= None)) \n",
        "\n",
        "#         self.add(Conv2D(384, kernel_size=(3,3), strides= 1,\n",
        "#                         padding= 'same', activation= 'sigmoid',\n",
        "#                         kernel_initializer= 'he_normal'))\n",
        "\n",
        "#         self.add(Conv2D(384, kernel_size=(3,3), strides= 1,\n",
        "#                         padding= 'same', activation= 'sigmoid',\n",
        "#                         kernel_initializer= 'he_normal'))\n",
        "\n",
        "#         self.add(Conv2D(256, kernel_size=(3,3), strides= 1,\n",
        "#                         padding= 'same', activation= 'sigmoid',\n",
        "#                         kernel_initializer= 'he_normal'))\n",
        "\n",
        "#         # self.add(MaxPooling2D(pool_size=(3,3), strides= (2,2),\n",
        "#         #                       padding= 'valid', data_format= None))\n",
        "#         parent_layer = layers.Conv2D(32, (3, 3), activation='relu')\n",
        "#         child_layer = SharedWeightsConv(parent_layer)\n",
        "#         self.add(parent_layer)\n",
        "#         self.add(child_layer)\n",
        "#         self.add(Flatten())\n",
        "#         self.add(Dense(4096, activation= 'sigmoid'))\n",
        "#         self.add(Dense(4096, activation= 'sigmoid'))\n",
        "#         self.add(Dense(1000, activation= 'sigmoid'))\n",
        "#         self.add(Dense(num_classes, activation= 'softmax'))\n",
        "\n",
        "        \n",
        "\n",
        "#         self.compile(optimizer= tf.keras.optimizers.Adam(0.0003),\n",
        "#                     loss='categorical_crossentropy',\n",
        "#                     metrics=['accuracy'])\n",
        "        \n",
        "# model = AlexNet((32, 32, 3), 10)\n",
        "# model.summary()\n",
        "\n",
        "\n"
      ],
      "execution_count": null,
      "outputs": [
        {
          "output_type": "stream",
          "text": [
            "(50000, 32, 32, 3)\n",
            "[0 1 2 3 4 5 6 7 8 9]\n",
            "[6000 6000 6000 6000 6000 6000 6000 6000 6000 6000]\n"
          ],
          "name": "stdout"
        }
      ]
    },
    {
      "cell_type": "code",
      "metadata": {
        "id": "8l-LqQkk7OaU",
        "colab_type": "code",
        "colab": {
          "base_uri": "https://localhost:8080/",
          "height": 1000
        },
        "outputId": "03706aec-5485-4ca7-9fa1-d7e8d19a6aa4"
      },
      "source": [
        "# block_1_output = layers.MaxPooling2D(3)(x)\n",
        "# layer2 = layers.Conv2D(64, 3, activation=\"relu\", padding=\"same\")\n",
        "# shared_layer2 = SharedWeightsConv(layer2)\n",
        "\n",
        "# x = layer2(block_1_output)\n",
        "# x = shared_layer2(x)\n",
        "# block_2_output = layers.add([x, block_1_output])\n",
        "\n",
        "import numpy as np\n",
        "import tensorflow as tf\n",
        "from tensorflow import keras\n",
        "from tensorflow.keras import layers\n",
        "import matplotlib.pyplot as plt\n",
        "\n",
        "inputs = keras.Input(shape=(32, 32, 3), name=\"img\")\n",
        "x = layers.Conv2D(32, 3, activation=\"relu\")(inputs)\n",
        "x = layers.Conv2D(64, 3, activation=\"relu\")(x)\n",
        "block_1_output = layers.MaxPooling2D(3)(x)\n",
        "\n",
        "layer1 = layers.Conv2D(64, 3, activation=\"relu\", padding=\"same\")\n",
        "shared_layer1 = SharedWeightsConv(layer1)\n",
        "x = layer1(block_1_output)\n",
        "x = layers.Conv2D(64, 3, activation=\"relu\", padding=\"same\")(x)\n",
        "block_2_output = layers.add([x, block_1_output])\n",
        "\n",
        "x = layers.Conv2D(64, 3, activation=\"relu\", padding=\"same\")(block_2_output)\n",
        "x = layers.Conv2D(64, 3, activation=\"relu\", padding=\"same\")(x)\n",
        "block_3_output = layers.add([x, block_2_output])\n",
        "\n",
        "x = shared_layer1(block_3_output)\n",
        "x = layers.GlobalAveragePooling2D()(x)\n",
        "x = layers.Dense(256, activation=\"relu\")(x)\n",
        "x = layers.Dropout(0.5)(x)\n",
        "outputs = layers.Dense(10)(x)\n",
        "\n",
        "model = keras.Model(inputs, outputs, name=\"toy_resnet\")\n",
        "model.summary()\n",
        "\n",
        "model.compile(\n",
        "    optimizer=keras.optimizers.RMSprop(1e-3),\n",
        "    loss=keras.losses.CategoricalCrossentropy(from_logits=True),\n",
        "    metrics=[\"acc\"],\n",
        ")\n",
        "# We restrict the data to the first 1000 samples so as to limit execution time\n",
        "# on Colab. Try to train on the entire dataset until convergence!\n",
        "model_history = model.fit(train_images, train_labels, batch_size=64, epochs=10, validation_split=0.2)\n",
        "\n",
        "keras.utils.plot_model(model, \"mini_resnet1.png\", show_shapes=True)\n",
        "\n",
        "plt.plot(model_history.history['acc'], label='acc')\n",
        "plt.plot(model_history.history['val_acc'], label = 'val_acc')\n",
        "plt.xlabel('Epoch')\n",
        "plt.ylabel('Accuracy')\n",
        "plt.ylim([0.5, 1])\n",
        "plt.legend(loc='lower right')\n",
        "\n",
        "test_loss, test_acc = model.evaluate(test_images,  test_labels, verbose=2)\n"
      ],
      "execution_count": null,
      "outputs": [
        {
          "output_type": "stream",
          "text": [
            "Model: \"toy_resnet\"\n",
            "__________________________________________________________________________________________________\n",
            "Layer (type)                    Output Shape         Param #     Connected to                     \n",
            "==================================================================================================\n",
            "img (InputLayer)                [(None, 32, 32, 3)]  0                                            \n",
            "__________________________________________________________________________________________________\n",
            "conv2d_21 (Conv2D)              (None, 30, 30, 32)   896         img[0][0]                        \n",
            "__________________________________________________________________________________________________\n",
            "conv2d_22 (Conv2D)              (None, 28, 28, 64)   18496       conv2d_21[0][0]                  \n",
            "__________________________________________________________________________________________________\n",
            "max_pooling2d_4 (MaxPooling2D)  (None, 9, 9, 64)     0           conv2d_22[0][0]                  \n",
            "__________________________________________________________________________________________________\n",
            "conv2d_23 (Conv2D)              (None, 9, 9, 64)     36928       max_pooling2d_4[0][0]            \n",
            "__________________________________________________________________________________________________\n",
            "conv2d_24 (Conv2D)              (None, 9, 9, 64)     36928       conv2d_23[0][0]                  \n",
            "__________________________________________________________________________________________________\n",
            "add_6 (Add)                     (None, 9, 9, 64)     0           conv2d_24[0][0]                  \n",
            "                                                                 max_pooling2d_4[0][0]            \n",
            "__________________________________________________________________________________________________\n",
            "conv2d_25 (Conv2D)              (None, 9, 9, 64)     36928       add_6[0][0]                      \n",
            "__________________________________________________________________________________________________\n",
            "conv2d_26 (Conv2D)              (None, 9, 9, 64)     36928       conv2d_25[0][0]                  \n",
            "__________________________________________________________________________________________________\n",
            "add_7 (Add)                     (None, 9, 9, 64)     0           conv2d_26[0][0]                  \n",
            "                                                                 add_6[0][0]                      \n",
            "__________________________________________________________________________________________________\n",
            "shared_weights_conv_3 (SharedWe (None, 9, 9, 64)     36928       add_7[0][0]                      \n",
            "__________________________________________________________________________________________________\n",
            "global_average_pooling2d_3 (Glo (None, 64)           0           shared_weights_conv_3[0][0]      \n",
            "__________________________________________________________________________________________________\n",
            "dense_6 (Dense)                 (None, 256)          16640       global_average_pooling2d_3[0][0] \n",
            "__________________________________________________________________________________________________\n",
            "dropout_3 (Dropout)             (None, 256)          0           dense_6[0][0]                    \n",
            "__________________________________________________________________________________________________\n",
            "dense_7 (Dense)                 (None, 10)           2570        dropout_3[0][0]                  \n",
            "==================================================================================================\n",
            "Total params: 186,314\n",
            "Trainable params: 186,314\n",
            "Non-trainable params: 0\n",
            "__________________________________________________________________________________________________\n",
            "Epoch 1/10\n",
            "625/625 [==============================] - 5s 7ms/step - loss: 1.9085 - acc: 0.3286 - val_loss: 1.3595 - val_acc: 0.5031\n",
            "Epoch 2/10\n",
            "625/625 [==============================] - 4s 7ms/step - loss: 1.3478 - acc: 0.5203 - val_loss: 1.1113 - val_acc: 0.5913\n",
            "Epoch 3/10\n",
            "625/625 [==============================] - 4s 7ms/step - loss: 1.1362 - acc: 0.6015 - val_loss: 0.9785 - val_acc: 0.6553\n",
            "Epoch 4/10\n",
            "625/625 [==============================] - 4s 7ms/step - loss: 1.0009 - acc: 0.6507 - val_loss: 0.9868 - val_acc: 0.6711\n",
            "Epoch 5/10\n",
            "625/625 [==============================] - 4s 7ms/step - loss: 0.9070 - acc: 0.6877 - val_loss: 0.8808 - val_acc: 0.6949\n",
            "Epoch 6/10\n",
            "625/625 [==============================] - 4s 7ms/step - loss: 0.8325 - acc: 0.7152 - val_loss: 0.9767 - val_acc: 0.6861\n",
            "Epoch 7/10\n",
            "625/625 [==============================] - 4s 7ms/step - loss: 0.7762 - acc: 0.7369 - val_loss: 0.7914 - val_acc: 0.7300\n",
            "Epoch 8/10\n",
            "625/625 [==============================] - 4s 7ms/step - loss: 0.7334 - acc: 0.7525 - val_loss: 0.7845 - val_acc: 0.7385\n",
            "Epoch 9/10\n",
            "625/625 [==============================] - 4s 7ms/step - loss: 0.6916 - acc: 0.7624 - val_loss: 0.8158 - val_acc: 0.7301\n",
            "Epoch 10/10\n",
            "625/625 [==============================] - 4s 7ms/step - loss: 0.6617 - acc: 0.7771 - val_loss: 0.7638 - val_acc: 0.7535\n",
            "313/313 - 1s - loss: 0.7813 - acc: 0.7463\n"
          ],
          "name": "stdout"
        },
        {
          "output_type": "display_data",
          "data": {
            "image/png": "[encoded data removed]",
            "text/plain": [
              "<Figure size 432x288 with 1 Axes>"
            ]
          },
          "metadata": {
            "tags": [],
            "needs_background": "light"
          }
        }
      ]
    },
    {
      "cell_type": "code",
      "metadata": {
        "id": "Vd_47tFy7OCl",
        "colab_type": "code",
        "colab": {}
      },
      "source": [
        ""
      ],
      "execution_count": null,
      "outputs": []
    },
    {
      "cell_type": "code",
      "metadata": {
        "id": "lXg5QgcQnm_P",
        "colab_type": "code",
        "colab": {
          "base_uri": "https://localhost:8080/",
          "height": 34
        },
        "outputId": "ccee8133-3837-4a8c-d856-a81096310536"
      },
      "source": [
        "print(train_images.shape, train_labels.shape)"
      ],
      "execution_count": null,
      "outputs": [
        {
          "output_type": "stream",
          "text": [
            "(50000, 32, 32, 3) (50000, 10)\n"
          ],
          "name": "stdout"
        }
      ]
    },
    {
      "cell_type": "code",
      "metadata": {
        "id": "TOo05hP3nk63",
        "colab_type": "code",
        "colab": {}
      },
      "source": [
        "# history = model.fit(train_images, train_labels, epochs=10)"
      ],
      "execution_count": null,
      "outputs": []
    },
    {
      "cell_type": "code",
      "metadata": {
        "id": "hBx2tm1unlND",
        "colab_type": "code",
        "colab": {}
      },
      "source": [
        ""
      ],
      "execution_count": null,
      "outputs": []
    }
  ]
}